{
  "nbformat": 4,
  "nbformat_minor": 0,
  "metadata": {
    "colab": {
      "name": "Plotting and Metrics Function Deep learning Regression",
      "provenance": [],
      "collapsed_sections": [],
      "authorship_tag": "ABX9TyPUo1BllKGZ0O40tXvO5Zap",
      "include_colab_link": true
    },
    "kernelspec": {
      "name": "python3",
      "display_name": "Python 3"
    },
    "language_info": {
      "name": "python"
    }
  },
  "cells": [
    {
      "cell_type": "markdown",
      "metadata": {
        "id": "view-in-github",
        "colab_type": "text"
      },
      "source": [
        "<a href=\"https://colab.research.google.com/github/elinteerie/Plotting-and-Metrics-Function-Deep-learning-Regression/blob/main/Plotting_and_Metrics_Function_Deep_learning_Regression.ipynb\" target=\"_parent\"><img src=\"https://colab.research.google.com/assets/colab-badge.svg\" alt=\"Open In Colab\"/></a>"
      ]
    },
    {
      "cell_type": "code",
      "execution_count": null,
      "metadata": {
        "id": "bPtaeqO6nsY1"
      },
      "outputs": [],
      "source": [
        "import tensorflow as tf\n",
        "import numpy as np\n",
        "import matplotlib.pylot as plt\n",
        "import pandas as pd"
      ]
    },
    {
      "cell_type": "code",
      "source": [
        ""
      ],
      "metadata": {
        "id": "WLIdjc_LnvVn"
      },
      "execution_count": null,
      "outputs": []
    },
    {
      "cell_type": "code",
      "source": [
        "#Lets Plot the Pr\n",
        "\n",
        "\n",
        "def plot_predictions(train_data =X_train,\n",
        "                     train_label = y_train,\n",
        "                     test_data = X_test,\n",
        "                     test_label = y_test,\n",
        "                     predictions =y_preds):\n",
        "  \"\"\" Plot training Data and test data\"\"\"\n",
        "\n",
        "  plt.figure(figsize=(10,7))\n",
        "  #Plot the trainingg set\n",
        "  plt.scatter (train_data, train_label, c=\"b\", label = 'Training Data')\n",
        "  #Plot the test set\n",
        "  plt.scatter(test_label, test_data, c= 'g', label ='Test  Data' )\n",
        "  #Plot model Prediction in red\n",
        "  plt.scatter(test_data, predictions, c = 'r', label ='Prediction')\n",
        "  #Show the legend\n",
        "  plt.legend();\n",
        "\n",
        "\n",
        "\n"
      ],
      "metadata": {
        "id": "4DLZyauOnvYQ"
      },
      "execution_count": null,
      "outputs": []
    },
    {
      "cell_type": "code",
      "source": [
        "#Build metrics Function\n",
        "\n",
        "def metric_func(y_true =y_test,\n",
        "                y_pred = y_preds):\n",
        "  mae = tf.metrics.mean_absolute_error(y_true, y_pred)\n",
        "  mse = tf.metrics.mean_squared_error(y_true,y_pred)\n",
        "  return mae, mse"
      ],
      "metadata": {
        "id": "mPODjavBnvav"
      },
      "execution_count": null,
      "outputs": []
    }
  ]
}
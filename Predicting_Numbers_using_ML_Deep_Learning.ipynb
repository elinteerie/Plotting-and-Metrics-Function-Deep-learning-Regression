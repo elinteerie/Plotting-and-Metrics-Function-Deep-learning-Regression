{
  "nbformat": 4,
  "nbformat_minor": 0,
  "metadata": {
    "colab": {
      "name": "Predicting Numbers using ML Deep Learning",
      "provenance": [],
      "collapsed_sections": [],
      "authorship_tag": "ABX9TyPwD/uftfvxskRdrDN9y29R",
      "include_colab_link": true
    },
    "kernelspec": {
      "name": "python3",
      "display_name": "Python 3"
    },
    "language_info": {
      "name": "python"
    }
  },
  "cells": [
    {
      "cell_type": "markdown",
      "metadata": {
        "id": "view-in-github",
        "colab_type": "text"
      },
      "source": [
        "<a href=\"https://colab.research.google.com/github/elinteerie/Plotting-and-Metrics-Function-Deep-learning-Regression/blob/main/Predicting_Numbers_using_ML_Deep_Learning.ipynb\" target=\"_parent\"><img src=\"https://colab.research.google.com/assets/colab-badge.svg\" alt=\"Open In Colab\"/></a>"
      ]
    },
    {
      "cell_type": "code",
      "source": [
        "#Predicting Numerical Values\n",
        "#Predicting a number\n",
        "\n",
        "#Import Tensorflow\n",
        "\n",
        "import tensorflow as tf\n",
        "print(tf.__version__)\n"
      ],
      "metadata": {
        "colab": {
          "base_uri": "https://localhost:8080/"
        },
        "id": "sPDpM7lUToVl",
        "outputId": "95f3efa3-dc76-4714-99df-597b14a80101"
      },
      "execution_count": null,
      "outputs": [
        {
          "output_type": "stream",
          "name": "stdout",
          "text": [
            "2.8.0\n"
          ]
        }
      ]
    },
    {
      "cell_type": "code",
      "source": [
        "#Create data to view and fit\n",
        "import numpy as np\n",
        "import matplotlib.pyplot as plt\n",
        "\n",
        "#Create Features\n",
        "\n",
        "X = tf.constant([-7.0, -4.0, -1.0 , 2.0, 5.0, 8.0, 11.0, 14.0])\n",
        "\n",
        "#Create labels\n",
        "\n",
        "y = tf.constant([3.0, 6.0, 9.0, 12.0, 15.0, 18.0, 21.0, 24.0])\n",
        "\n",
        "\n",
        "#Visualize it\n",
        "\n",
        "plt.scatter(X,y);"
      ],
      "metadata": {
        "colab": {
          "base_uri": "https://localhost:8080/",
          "height": 269
        },
        "id": "yFNJs_4LT3j4",
        "outputId": "a33f5a4b-6576-4679-cf8d-bce9efadc174"
      },
      "execution_count": null,
      "outputs": [
        {
          "output_type": "display_data",
          "data": {
            "text/plain": [
              "<Figure size 432x288 with 1 Axes>"
            ],
            "image/png": "[encoded data removed]"
          },
          "metadata": {
            "needs_background": "light"
          }
        }
      ]
    },
    {
      "cell_type": "code",
      "source": [
        "#Input and Output Shape\n",
        "\n",
        "#Create a demo tensor for housing price prediction problem\n",
        "house_info =tf.constant(['bedroom', 'bathroom', 'garage'])\n",
        "house_price = tf.constant (939700)\n",
        "\n",
        "\n"
      ],
      "metadata": {
        "colab": {
          "base_uri": "https://localhost:8080/"
        },
        "id": "6Occ-LMlU2li",
        "outputId": "ab08e4ea-401b-4df7-e600-7a47f03f55ed"
      },
      "execution_count": null,
      "outputs": [
        {
          "output_type": "execute_result",
          "data": {
            "text/plain": [
              "939700"
            ]
          },
          "metadata": {},
          "execution_count": 7
        }
      ]
    },
    {
      "cell_type": "markdown",
      "source": [
        "#Creating a Model "
      ],
      "metadata": {
        "id": "jO4M4zaxWIkC"
      }
    },
    {
      "cell_type": "code",
      "source": [
        "# Set a random seed\n",
        "\n",
        "tf.random.set_seed(42)\n",
        "\n",
        "# 1. Create a module using the sequential API\n",
        "model = tf.keras.Sequential([\n",
        "  tf.keras.layers.Dense(1)\n",
        "])\n",
        "# 2. Compile the model\n",
        "model.compile(loss = tf.keras.losses.mae,\n",
        "              optimizer =tf.keras.optimizers.SGD(),\n",
        "              metrics= ['mae'])\n",
        "\n",
        "#Fit the model\n",
        "# model.fit(X,y, epochs=10)\n",
        "model.fit(tf.expand_dims(X, axis=-1), y, epochs=10);\n",
        "\n",
        "\n"
      ],
      "metadata": {
        "colab": {
          "base_uri": "https://localhost:8080/"
        },
        "id": "D8PJONqOYwKD",
        "outputId": "53ebb195-e704-4590-a6d8-0a96b29caafa"
      },
      "execution_count": null,
      "outputs": [
        {
          "output_type": "stream",
          "name": "stdout",
          "text": [
            "Epoch 1/10\n",
            "1/1 [==============================] - 0s 221ms/step - loss: 11.5048 - mae: 11.5048\n",
            "Epoch 2/10\n",
            "1/1 [==============================] - 0s 7ms/step - loss: 11.3723 - mae: 11.3723\n",
            "Epoch 3/10\n",
            "1/1 [==============================] - 0s 7ms/step - loss: 11.2398 - mae: 11.2398\n",
            "Epoch 4/10\n",
            "1/1 [==============================] - 0s 10ms/step - loss: 11.1073 - mae: 11.1073\n",
            "Epoch 5/10\n",
            "1/1 [==============================] - 0s 7ms/step - loss: 10.9748 - mae: 10.9748\n",
            "Epoch 6/10\n",
            "1/1 [==============================] - 0s 9ms/step - loss: 10.8423 - mae: 10.8423\n",
            "Epoch 7/10\n",
            "1/1 [==============================] - 0s 7ms/step - loss: 10.7098 - mae: 10.7098\n",
            "Epoch 8/10\n",
            "1/1 [==============================] - 0s 6ms/step - loss: 10.5773 - mae: 10.5773\n",
            "Epoch 9/10\n",
            "1/1 [==============================] - 0s 5ms/step - loss: 10.4448 - mae: 10.4448\n",
            "Epoch 10/10\n",
            "1/1 [==============================] - 0s 4ms/step - loss: 10.3123 - mae: 10.3123\n"
          ]
        }
      ]
    },
    {
      "cell_type": "markdown",
      "source": [
        "Prediction "
      ],
      "metadata": {
        "id": "8p8L56_ncri0"
      }
    },
    {
      "cell_type": "code",
      "source": [
        "X, y"
      ],
      "metadata": {
        "colab": {
          "base_uri": "https://localhost:8080/"
        },
        "id": "7ctnkmO8frt2",
        "outputId": "5bbdf7c7-7bf4-4991-c2e8-68680db493ff"
      },
      "execution_count": null,
      "outputs": [
        {
          "output_type": "execute_result",
          "data": {
            "text/plain": [
              "(<tf.Tensor: shape=(8,), dtype=float32, numpy=array([-7., -4., -1.,  2.,  5.,  8., 11., 14.], dtype=float32)>,\n",
              " <tf.Tensor: shape=(8,), dtype=float32, numpy=array([ 3.,  6.,  9., 12., 15., 18., 21., 24.], dtype=float32)>)"
            ]
          },
          "metadata": {},
          "execution_count": 33
        }
      ]
    },
    {
      "cell_type": "code",
      "source": [
        "model.predict([17.0])"
      ],
      "metadata": {
        "colab": {
          "base_uri": "https://localhost:8080/"
        },
        "id": "sbCUh_0bftWo",
        "outputId": "0cdabdba-a597-4401-9a7e-67467931852e"
      },
      "execution_count": null,
      "outputs": [
        {
          "output_type": "stream",
          "name": "stdout",
          "text": [
            "WARNING:tensorflow:5 out of the last 8 calls to <function Model.make_predict_function.<locals>.predict_function at 0x7f7b74366e60> triggered tf.function retracing. Tracing is expensive and the excessive number of tracings could be due to (1) creating @tf.function repeatedly in a loop, (2) passing tensors with different shapes, (3) passing Python objects instead of tensors. For (1), please define your @tf.function outside of the loop. For (2), @tf.function has experimental_relax_shapes=True option that relaxes argument shapes that can avoid unnecessary retracing. For (3), please refer to https://www.tensorflow.org/guide/function#controlling_retracing and https://www.tensorflow.org/api_docs/python/tf/function for  more details.\n"
          ]
        },
        {
          "output_type": "execute_result",
          "data": {
            "text/plain": [
              "array([[15.741023]], dtype=float32)"
            ]
          },
          "metadata": {},
          "execution_count": 34
        }
      ]
    },
    {
      "cell_type": "code",
      "source": [
        "#Improve the Model\n",
        "\n",
        "# Set a random seed\n",
        "\n",
        "tf.random.set_seed(42)\n",
        "\n",
        "# 1. Create a module using the sequential API\n",
        "model = tf.keras.Sequential([\n",
        "  tf.keras.layers.Dense(50), \n",
        "  tf.keras.layers.Dense(100), \n",
        "  tf.keras.layers.Dense(50), \n",
        "  tf.keras.layers.Dense(200),\n",
        "  tf.keras.layers.Dense(200),\n",
        "  tf.keras.layers.Dense(150),                             \n",
        "  tf.keras.layers.Dense(1)\n",
        "])\n",
        "# 2. Compile the model\n",
        "model.compile(loss = tf.keras.losses.mae,\n",
        "              optimizer =tf.keras.optimizers.Adam(),\n",
        "              metrics= ['mae'])\n",
        "\n",
        "#Fit the model\n",
        "# model.fit(X,y, epochs=10)\n",
        "model.fit(tf.expand_dims(X, axis=-1), y, epochs=100);\n",
        "\n",
        "\n",
        "\n",
        "\n"
      ],
      "metadata": {
        "colab": {
          "base_uri": "https://localhost:8080/"
        },
        "id": "-C_kDjEWgKvk",
        "outputId": "3540e95f-d8b9-4e58-9493-c049fb4fc81e"
      },
      "execution_count": null,
      "outputs": [
        {
          "output_type": "stream",
          "name": "stdout",
          "text": [
            "Epoch 1/100\n",
            "1/1 [==============================] - 1s 1s/step - loss: 13.3862 - mae: 13.3862\n",
            "Epoch 2/100\n",
            "1/1 [==============================] - 0s 13ms/step - loss: 10.5291 - mae: 10.5291\n",
            "Epoch 3/100\n",
            "1/1 [==============================] - 0s 10ms/step - loss: 7.3843 - mae: 7.3843\n",
            "Epoch 4/100\n",
            "1/1 [==============================] - 0s 13ms/step - loss: 9.7856 - mae: 9.7856\n",
            "Epoch 5/100\n",
            "1/1 [==============================] - 0s 9ms/step - loss: 8.4333 - mae: 8.4333\n",
            "Epoch 6/100\n",
            "1/1 [==============================] - 0s 12ms/step - loss: 7.2318 - mae: 7.2318\n",
            "Epoch 7/100\n",
            "1/1 [==============================] - 0s 9ms/step - loss: 8.3179 - mae: 8.3179\n",
            "Epoch 8/100\n",
            "1/1 [==============================] - 0s 10ms/step - loss: 8.7444 - mae: 8.7444\n",
            "Epoch 9/100\n",
            "1/1 [==============================] - 0s 10ms/step - loss: 8.6604 - mae: 8.6604\n",
            "Epoch 10/100\n",
            "1/1 [==============================] - 0s 9ms/step - loss: 8.2011 - mae: 8.2011\n",
            "Epoch 11/100\n",
            "1/1 [==============================] - 0s 10ms/step - loss: 7.4004 - mae: 7.4004\n",
            "Epoch 12/100\n",
            "1/1 [==============================] - 0s 9ms/step - loss: 6.8704 - mae: 6.8704\n",
            "Epoch 13/100\n",
            "1/1 [==============================] - 0s 6ms/step - loss: 7.2856 - mae: 7.2856\n",
            "Epoch 14/100\n",
            "1/1 [==============================] - 0s 10ms/step - loss: 7.3695 - mae: 7.3695\n",
            "Epoch 15/100\n",
            "1/1 [==============================] - 0s 8ms/step - loss: 7.1637 - mae: 7.1637\n",
            "Epoch 16/100\n",
            "1/1 [==============================] - 0s 9ms/step - loss: 6.7392 - mae: 6.7392\n",
            "Epoch 17/100\n",
            "1/1 [==============================] - 0s 8ms/step - loss: 6.5735 - mae: 6.5735\n",
            "Epoch 18/100\n",
            "1/1 [==============================] - 0s 6ms/step - loss: 7.0270 - mae: 7.0270\n",
            "Epoch 19/100\n",
            "1/1 [==============================] - 0s 8ms/step - loss: 7.1220 - mae: 7.1220\n",
            "Epoch 20/100\n",
            "1/1 [==============================] - 0s 8ms/step - loss: 6.8547 - mae: 6.8547\n",
            "Epoch 21/100\n",
            "1/1 [==============================] - 0s 7ms/step - loss: 6.3004 - mae: 6.3004\n",
            "Epoch 22/100\n",
            "1/1 [==============================] - 0s 8ms/step - loss: 6.1777 - mae: 6.1777\n",
            "Epoch 23/100\n",
            "1/1 [==============================] - 0s 6ms/step - loss: 6.4590 - mae: 6.4590\n",
            "Epoch 24/100\n",
            "1/1 [==============================] - 0s 6ms/step - loss: 6.5158 - mae: 6.5158\n",
            "Epoch 25/100\n",
            "1/1 [==============================] - 0s 6ms/step - loss: 6.3573 - mae: 6.3573\n",
            "Epoch 26/100\n",
            "1/1 [==============================] - 0s 6ms/step - loss: 6.0171 - mae: 6.0171\n",
            "Epoch 27/100\n",
            "1/1 [==============================] - 0s 15ms/step - loss: 5.7844 - mae: 5.7844\n",
            "Epoch 28/100\n",
            "1/1 [==============================] - 0s 6ms/step - loss: 5.9967 - mae: 5.9967\n",
            "Epoch 29/100\n",
            "1/1 [==============================] - 0s 6ms/step - loss: 5.9515 - mae: 5.9515\n",
            "Epoch 30/100\n",
            "1/1 [==============================] - 0s 6ms/step - loss: 5.5045 - mae: 5.5045\n",
            "Epoch 31/100\n",
            "1/1 [==============================] - 0s 6ms/step - loss: 5.3407 - mae: 5.3407\n",
            "Epoch 32/100\n",
            "1/1 [==============================] - 0s 6ms/step - loss: 5.3903 - mae: 5.3903\n",
            "Epoch 33/100\n",
            "1/1 [==============================] - 0s 7ms/step - loss: 5.3120 - mae: 5.3120\n",
            "Epoch 34/100\n",
            "1/1 [==============================] - 0s 7ms/step - loss: 5.0215 - mae: 5.0215\n",
            "Epoch 35/100\n",
            "1/1 [==============================] - 0s 6ms/step - loss: 4.7783 - mae: 4.7783\n",
            "Epoch 36/100\n",
            "1/1 [==============================] - 0s 7ms/step - loss: 4.9435 - mae: 4.9435\n",
            "Epoch 37/100\n",
            "1/1 [==============================] - 0s 6ms/step - loss: 4.5920 - mae: 4.5920\n",
            "Epoch 38/100\n",
            "1/1 [==============================] - 0s 8ms/step - loss: 4.2132 - mae: 4.2132\n",
            "Epoch 39/100\n",
            "1/1 [==============================] - 0s 6ms/step - loss: 4.1631 - mae: 4.1631\n",
            "Epoch 40/100\n",
            "1/1 [==============================] - 0s 9ms/step - loss: 3.8043 - mae: 3.8043\n",
            "Epoch 41/100\n",
            "1/1 [==============================] - 0s 8ms/step - loss: 3.2407 - mae: 3.2407\n",
            "Epoch 42/100\n",
            "1/1 [==============================] - 0s 7ms/step - loss: 3.2588 - mae: 3.2588\n",
            "Epoch 43/100\n",
            "1/1 [==============================] - 0s 6ms/step - loss: 2.3777 - mae: 2.3777\n",
            "Epoch 44/100\n",
            "1/1 [==============================] - 0s 7ms/step - loss: 2.0720 - mae: 2.0720\n",
            "Epoch 45/100\n",
            "1/1 [==============================] - 0s 6ms/step - loss: 1.4116 - mae: 1.4116\n",
            "Epoch 46/100\n",
            "1/1 [==============================] - 0s 7ms/step - loss: 0.5418 - mae: 0.5418\n",
            "Epoch 47/100\n",
            "1/1 [==============================] - 0s 6ms/step - loss: 1.6590 - mae: 1.6590\n",
            "Epoch 48/100\n",
            "1/1 [==============================] - 0s 6ms/step - loss: 1.4071 - mae: 1.4071\n",
            "Epoch 49/100\n",
            "1/1 [==============================] - 0s 8ms/step - loss: 1.6022 - mae: 1.6022\n",
            "Epoch 50/100\n",
            "1/1 [==============================] - 0s 6ms/step - loss: 1.8040 - mae: 1.8040\n",
            "Epoch 51/100\n",
            "1/1 [==============================] - 0s 6ms/step - loss: 1.9987 - mae: 1.9987\n",
            "Epoch 52/100\n",
            "1/1 [==============================] - 0s 8ms/step - loss: 1.1439 - mae: 1.1439\n",
            "Epoch 53/100\n",
            "1/1 [==============================] - 0s 6ms/step - loss: 1.3161 - mae: 1.3161\n",
            "Epoch 54/100\n",
            "1/1 [==============================] - 0s 6ms/step - loss: 0.8327 - mae: 0.8327\n",
            "Epoch 55/100\n",
            "1/1 [==============================] - 0s 6ms/step - loss: 1.4886 - mae: 1.4886\n",
            "Epoch 56/100\n",
            "1/1 [==============================] - 0s 6ms/step - loss: 1.9657 - mae: 1.9657\n",
            "Epoch 57/100\n",
            "1/1 [==============================] - 0s 7ms/step - loss: 1.7128 - mae: 1.7128\n",
            "Epoch 58/100\n",
            "1/1 [==============================] - 0s 8ms/step - loss: 1.0694 - mae: 1.0694\n",
            "Epoch 59/100\n",
            "1/1 [==============================] - 0s 6ms/step - loss: 1.6682 - mae: 1.6682\n",
            "Epoch 60/100\n",
            "1/1 [==============================] - 0s 6ms/step - loss: 1.1905 - mae: 1.1905\n",
            "Epoch 61/100\n",
            "1/1 [==============================] - 0s 6ms/step - loss: 1.2191 - mae: 1.2191\n",
            "Epoch 62/100\n",
            "1/1 [==============================] - 0s 6ms/step - loss: 1.2142 - mae: 1.2142\n",
            "Epoch 63/100\n",
            "1/1 [==============================] - 0s 8ms/step - loss: 0.4609 - mae: 0.4609\n",
            "Epoch 64/100\n",
            "1/1 [==============================] - 0s 6ms/step - loss: 1.3386 - mae: 1.3386\n",
            "Epoch 65/100\n",
            "1/1 [==============================] - 0s 5ms/step - loss: 1.3544 - mae: 1.3544\n",
            "Epoch 66/100\n",
            "1/1 [==============================] - 0s 8ms/step - loss: 0.8051 - mae: 0.8051\n",
            "Epoch 67/100\n",
            "1/1 [==============================] - 0s 6ms/step - loss: 1.2667 - mae: 1.2667\n",
            "Epoch 68/100\n",
            "1/1 [==============================] - 0s 6ms/step - loss: 0.7269 - mae: 0.7269\n",
            "Epoch 69/100\n",
            "1/1 [==============================] - 0s 7ms/step - loss: 0.5849 - mae: 0.5849\n",
            "Epoch 70/100\n",
            "1/1 [==============================] - 0s 6ms/step - loss: 0.5157 - mae: 0.5157\n",
            "Epoch 71/100\n",
            "1/1 [==============================] - 0s 7ms/step - loss: 0.1813 - mae: 0.1813\n",
            "Epoch 72/100\n",
            "1/1 [==============================] - 0s 6ms/step - loss: 1.1604 - mae: 1.1604\n",
            "Epoch 73/100\n",
            "1/1 [==============================] - 0s 6ms/step - loss: 1.2603 - mae: 1.2603\n",
            "Epoch 74/100\n",
            "1/1 [==============================] - 0s 7ms/step - loss: 0.7563 - mae: 0.7563\n",
            "Epoch 75/100\n",
            "1/1 [==============================] - 0s 6ms/step - loss: 1.4731 - mae: 1.4731\n",
            "Epoch 76/100\n",
            "1/1 [==============================] - 0s 6ms/step - loss: 1.7833 - mae: 1.7833\n",
            "Epoch 77/100\n",
            "1/1 [==============================] - 0s 6ms/step - loss: 0.8617 - mae: 0.8617\n",
            "Epoch 78/100\n",
            "1/1 [==============================] - 0s 7ms/step - loss: 1.1036 - mae: 1.1036\n",
            "Epoch 79/100\n",
            "1/1 [==============================] - 0s 7ms/step - loss: 1.7169 - mae: 1.7169\n",
            "Epoch 80/100\n",
            "1/1 [==============================] - 0s 6ms/step - loss: 1.2028 - mae: 1.2028\n",
            "Epoch 81/100\n",
            "1/1 [==============================] - 0s 10ms/step - loss: 0.4288 - mae: 0.4288\n",
            "Epoch 82/100\n",
            "1/1 [==============================] - 0s 7ms/step - loss: 0.7939 - mae: 0.7939\n",
            "Epoch 83/100\n",
            "1/1 [==============================] - 0s 6ms/step - loss: 0.1748 - mae: 0.1748\n",
            "Epoch 84/100\n",
            "1/1 [==============================] - 0s 6ms/step - loss: 1.3809 - mae: 1.3809\n",
            "Epoch 85/100\n",
            "1/1 [==============================] - 0s 6ms/step - loss: 1.5893 - mae: 1.5893\n",
            "Epoch 86/100\n",
            "1/1 [==============================] - 0s 6ms/step - loss: 0.8476 - mae: 0.8476\n",
            "Epoch 87/100\n",
            "1/1 [==============================] - 0s 6ms/step - loss: 0.8180 - mae: 0.8180\n",
            "Epoch 88/100\n",
            "1/1 [==============================] - 0s 6ms/step - loss: 1.2269 - mae: 1.2269\n",
            "Epoch 89/100\n",
            "1/1 [==============================] - 0s 6ms/step - loss: 0.6348 - mae: 0.6348\n",
            "Epoch 90/100\n",
            "1/1 [==============================] - 0s 6ms/step - loss: 0.9325 - mae: 0.9325\n",
            "Epoch 91/100\n",
            "1/1 [==============================] - 0s 6ms/step - loss: 1.2565 - mae: 1.2565\n",
            "Epoch 92/100\n",
            "1/1 [==============================] - 0s 6ms/step - loss: 0.7686 - mae: 0.7686\n",
            "Epoch 93/100\n",
            "1/1 [==============================] - 0s 6ms/step - loss: 0.5734 - mae: 0.5734\n",
            "Epoch 94/100\n",
            "1/1 [==============================] - 0s 8ms/step - loss: 0.8014 - mae: 0.8014\n",
            "Epoch 95/100\n",
            "1/1 [==============================] - 0s 6ms/step - loss: 0.1202 - mae: 0.1202\n",
            "Epoch 96/100\n",
            "1/1 [==============================] - 0s 6ms/step - loss: 1.2927 - mae: 1.2927\n",
            "Epoch 97/100\n",
            "1/1 [==============================] - 0s 10ms/step - loss: 1.5993 - mae: 1.5993\n",
            "Epoch 98/100\n",
            "1/1 [==============================] - 0s 7ms/step - loss: 1.0617 - mae: 1.0617\n",
            "Epoch 99/100\n",
            "1/1 [==============================] - 0s 13ms/step - loss: 0.2742 - mae: 0.2742\n",
            "Epoch 100/100\n",
            "1/1 [==============================] - 0s 9ms/step - loss: 0.6092 - mae: 0.6092\n"
          ]
        }
      ]
    },
    {
      "cell_type": "code",
      "source": [
        "model.predict([17.0])\n"
      ],
      "metadata": {
        "colab": {
          "base_uri": "https://localhost:8080/"
        },
        "id": "16UTNCc3qWQ5",
        "outputId": "bcde2c75-25f3-4ba7-d33e-faf0c6c5cc90"
      },
      "execution_count": null,
      "outputs": [
        {
          "output_type": "execute_result",
          "data": {
            "text/plain": [
              "array([[27.114063]], dtype=float32)"
            ]
          },
          "metadata": {},
          "execution_count": 102
        }
      ]
    },
    {
      "cell_type": "code",
      "source": [
        "X, y"
      ],
      "metadata": {
        "colab": {
          "base_uri": "https://localhost:8080/"
        },
        "id": "X0Hkp4U9rRYm",
        "outputId": "f0aeff36-3400-4ab3-9e22-0773efc655ea"
      },
      "execution_count": null,
      "outputs": [
        {
          "output_type": "execute_result",
          "data": {
            "text/plain": [
              "(<tf.Tensor: shape=(8,), dtype=float32, numpy=array([-7., -4., -1.,  2.,  5.,  8., 11., 14.], dtype=float32)>,\n",
              " <tf.Tensor: shape=(8,), dtype=float32, numpy=array([ 3.,  6.,  9., 12., 15., 18., 21., 24.], dtype=float32)>)"
            ]
          },
          "metadata": {},
          "execution_count": 81
        }
      ]
    },
    {
      "cell_type": "code",
      "source": [
        "model.predict([20.0])"
      ],
      "metadata": {
        "colab": {
          "base_uri": "https://localhost:8080/"
        },
        "id": "PksIoNkor9b6",
        "outputId": "8578e4e8-b1b2-44b7-bf82-bbdd69bb138e"
      },
      "execution_count": null,
      "outputs": [
        {
          "output_type": "execute_result",
          "data": {
            "text/plain": [
              "array([[30.14061]], dtype=float32)"
            ]
          },
          "metadata": {},
          "execution_count": 100
        }
      ]
    },
    {
      "cell_type": "code",
      "source": [
        "model.predict([30])"
      ],
      "metadata": {
        "colab": {
          "base_uri": "https://localhost:8080/"
        },
        "id": "gOC0w5c-sBA-",
        "outputId": "f5e67c13-f6ec-4199-81b9-e405e2cd3266"
      },
      "execution_count": null,
      "outputs": [
        {
          "output_type": "execute_result",
          "data": {
            "text/plain": [
              "array([[40.229084]], dtype=float32)"
            ]
          },
          "metadata": {},
          "execution_count": 101
        }
      ]
    },
    {
      "cell_type": "code",
      "source": [
        "#Bigger Datasets\n",
        "X = np.arange(-100, 100, 4)\n",
        "X\n"
      ],
      "metadata": {
        "colab": {
          "base_uri": "https://localhost:8080/"
        },
        "id": "1GrUjF2JsFW7",
        "outputId": "ccb7d9f6-9f08-457c-8414-40ef96c597e5"
      },
      "execution_count": null,
      "outputs": [
        {
          "output_type": "execute_result",
          "data": {
            "text/plain": [
              "array([-100,  -96,  -92,  -88,  -84,  -80,  -76,  -72,  -68,  -64,  -60,\n",
              "        -56,  -52,  -48,  -44,  -40,  -36,  -32,  -28,  -24,  -20,  -16,\n",
              "        -12,   -8,   -4,    0,    4,    8,   12,   16,   20,   24,   28,\n",
              "         32,   36,   40,   44,   48,   52,   56,   60,   64,   68,   72,\n",
              "         76,   80,   84,   88,   92,   96])"
            ]
          },
          "metadata": {},
          "execution_count": 104
        }
      ]
    },
    {
      "cell_type": "code",
      "source": [
        "y = np.arange(-90, 110, 4)\n",
        "y"
      ],
      "metadata": {
        "colab": {
          "base_uri": "https://localhost:8080/"
        },
        "id": "3XXxcoZg1z8m",
        "outputId": "9907c847-93f2-4ab6-839e-63a033384c1c"
      },
      "execution_count": null,
      "outputs": [
        {
          "output_type": "execute_result",
          "data": {
            "text/plain": [
              "array([-90, -86, -82, -78, -74, -70, -66, -62, -58, -54, -50, -46, -42,\n",
              "       -38, -34, -30, -26, -22, -18, -14, -10,  -6,  -2,   2,   6,  10,\n",
              "        14,  18,  22,  26,  30,  34,  38,  42,  46,  50,  54,  58,  62,\n",
              "        66,  70,  74,  78,  82,  86,  90,  94,  98, 102, 106])"
            ]
          },
          "metadata": {},
          "execution_count": 105
        }
      ]
    },
    {
      "cell_type": "code",
      "source": [
        ""
      ],
      "metadata": {
        "id": "SoxLsUjE16u_",
        "colab": {
          "base_uri": "https://localhost:8080/"
        },
        "outputId": "a11b63a4-ee56-4e99-bd28-a87f9271fc68"
      },
      "execution_count": 106,
      "outputs": [
        {
          "output_type": "execute_result",
          "data": {
            "text/plain": [
              "(array([-100,  -96,  -92,  -88,  -84,  -80,  -76,  -72,  -68,  -64,  -60,\n",
              "         -56,  -52,  -48,  -44,  -40,  -36,  -32,  -28,  -24,  -20,  -16,\n",
              "         -12,   -8,   -4,    0,    4,    8,   12,   16,   20,   24,   28,\n",
              "          32,   36,   40,   44,   48,   52,   56,   60,   64,   68,   72,\n",
              "          76,   80,   84,   88,   92,   96]),\n",
              " array([-90, -86, -82, -78, -74, -70, -66, -62, -58, -54, -50, -46, -42,\n",
              "        -38, -34, -30, -26, -22, -18, -14, -10,  -6,  -2,   2,   6,  10,\n",
              "         14,  18,  22,  26,  30,  34,  38,  42,  46,  50,  54,  58,  62,\n",
              "         66,  70,  74,  78,  82,  86,  90,  94,  98, 102, 106]))"
            ]
          },
          "metadata": {},
          "execution_count": 106
        }
      ]
    },
    {
      "cell_type": "code",
      "source": [
        "#Visualise the Dataset\n",
        "\n",
        "plt.scatter(X,y, c='R');"
      ],
      "metadata": {
        "colab": {
          "base_uri": "https://localhost:8080/",
          "height": 265
        },
        "id": "mT7RLARA4qiP",
        "outputId": "7d3a68a4-e775-43d9-b323-66ff407fc289"
      },
      "execution_count": 112,
      "outputs": [
        {
          "output_type": "display_data",
          "data": {
            "text/plain": [
              "<Figure size 432x288 with 1 Axes>"
            ],
            "image/png": "[encoded data removed]"
          },
          "metadata": {
            "needs_background": "light"
          }
        }
      ]
    },
    {
      "cell_type": "code",
      "source": [
        "#Split the Dataset to Traing set\n",
        "\n",
        "X_train = X[:40]\n",
        "len(X_train)\n",
        "y_train  =y[:40]\n",
        "len(y_train)"
      ],
      "metadata": {
        "colab": {
          "base_uri": "https://localhost:8080/"
        },
        "id": "j57YQKuO5VWz",
        "outputId": "bd4a0bfb-9761-4e85-81e7-6ed87712f70f"
      },
      "execution_count": 118,
      "outputs": [
        {
          "output_type": "execute_result",
          "data": {
            "text/plain": [
              "40"
            ]
          },
          "metadata": {},
          "execution_count": 118
        }
      ]
    },
    {
      "cell_type": "code",
      "source": [
        "#Split to Validation/Test Set\n",
        "\n",
        "\n",
        "X_test = X[40:]\n",
        "len(X_test)\n",
        "y_test = X[40:]"
      ],
      "metadata": {
        "id": "Jt8vW6sOLZL8"
      },
      "execution_count": 121,
      "outputs": []
    },
    {
      "cell_type": "code",
      "source": [
        "#Visualise the Train and Test data\n",
        "plt.figure(figsize=(10, 7))\n",
        "# Plot training data in blue\n",
        "plt.scatter(X_train, y_train, c='b', label='Training data')\n",
        "# Plot test data in green\n",
        "plt.scatter(X_test, y_test, c='g', label='Testing data')\n",
        "# Show the legend\n",
        "plt.legend();\n",
        "\n",
        "\n",
        "\n",
        "\n"
      ],
      "metadata": {
        "colab": {
          "base_uri": "https://localhost:8080/",
          "height": 428
        },
        "id": "D3Wv9QnIMDlV",
        "outputId": "bb027a70-b340-40f1-81a8-6e47218d0ed7"
      },
      "execution_count": 123,
      "outputs": [
        {
          "output_type": "display_data",
          "data": {
            "text/plain": [
              "<Figure size 720x504 with 1 Axes>"
            ],
            "image/png": "[encoded data removed]"
          },
          "metadata": {
            "needs_background": "light"
          }
        }
      ]
    },
    {
      "cell_type": "code",
      "source": [
        "model.fit(X_train, y_train, epochs=100);"
      ],
      "metadata": {
        "colab": {
          "base_uri": "https://localhost:8080/"
        },
        "id": "sVfpkiJqMc2C",
        "outputId": "27be2580-4657-468f-9caf-56d2470764d6"
      },
      "execution_count": 126,
      "outputs": [
        {
          "output_type": "stream",
          "name": "stdout",
          "text": [
            "Epoch 1/100\n",
            "2/2 [==============================] - 0s 8ms/step - loss: 4.7507 - mae: 4.7507\n",
            "Epoch 2/100\n",
            "2/2 [==============================] - 0s 5ms/step - loss: 25.8756 - mae: 25.8756\n",
            "Epoch 3/100\n",
            "2/2 [==============================] - 0s 5ms/step - loss: 3.5776 - mae: 3.5776\n",
            "Epoch 4/100\n",
            "2/2 [==============================] - 0s 5ms/step - loss: 6.1155 - mae: 6.1155\n",
            "Epoch 5/100\n",
            "2/2 [==============================] - 0s 5ms/step - loss: 10.3893 - mae: 10.3893\n",
            "Epoch 6/100\n",
            "2/2 [==============================] - 0s 5ms/step - loss: 3.8853 - mae: 3.8853\n",
            "Epoch 7/100\n",
            "2/2 [==============================] - 0s 5ms/step - loss: 5.0435 - mae: 5.0435\n",
            "Epoch 8/100\n",
            "2/2 [==============================] - 0s 5ms/step - loss: 6.5610 - mae: 6.5610\n",
            "Epoch 9/100\n",
            "2/2 [==============================] - 0s 6ms/step - loss: 3.6753 - mae: 3.6753\n",
            "Epoch 10/100\n",
            "2/2 [==============================] - 0s 6ms/step - loss: 6.1428 - mae: 6.1428\n",
            "Epoch 11/100\n",
            "2/2 [==============================] - 0s 6ms/step - loss: 2.9438 - mae: 2.9438\n",
            "Epoch 12/100\n",
            "2/2 [==============================] - 0s 6ms/step - loss: 2.6845 - mae: 2.6845\n",
            "Epoch 13/100\n",
            "2/2 [==============================] - 0s 5ms/step - loss: 2.6015 - mae: 2.6015\n",
            "Epoch 14/100\n",
            "2/2 [==============================] - 0s 5ms/step - loss: 6.3319 - mae: 6.3319\n",
            "Epoch 15/100\n",
            "2/2 [==============================] - 0s 6ms/step - loss: 3.1823 - mae: 3.1823\n",
            "Epoch 16/100\n",
            "2/2 [==============================] - 0s 6ms/step - loss: 10.2500 - mae: 10.2500\n",
            "Epoch 17/100\n",
            "2/2 [==============================] - 0s 9ms/step - loss: 4.2341 - mae: 4.2341\n",
            "Epoch 18/100\n",
            "2/2 [==============================] - 0s 9ms/step - loss: 6.3869 - mae: 6.3869\n",
            "Epoch 19/100\n",
            "2/2 [==============================] - 0s 6ms/step - loss: 5.3789 - mae: 5.3789\n",
            "Epoch 20/100\n",
            "2/2 [==============================] - 0s 6ms/step - loss: 5.5828 - mae: 5.5828\n",
            "Epoch 21/100\n",
            "2/2 [==============================] - 0s 6ms/step - loss: 8.8968 - mae: 8.8968\n",
            "Epoch 22/100\n",
            "2/2 [==============================] - 0s 8ms/step - loss: 6.7896 - mae: 6.7896\n",
            "Epoch 23/100\n",
            "2/2 [==============================] - 0s 12ms/step - loss: 5.3659 - mae: 5.3659\n",
            "Epoch 24/100\n",
            "2/2 [==============================] - 0s 6ms/step - loss: 2.8057 - mae: 2.8057\n",
            "Epoch 25/100\n",
            "2/2 [==============================] - 0s 5ms/step - loss: 5.3905 - mae: 5.3905\n",
            "Epoch 26/100\n",
            "2/2 [==============================] - 0s 6ms/step - loss: 4.7209 - mae: 4.7209\n",
            "Epoch 27/100\n",
            "2/2 [==============================] - 0s 6ms/step - loss: 4.1121 - mae: 4.1121\n",
            "Epoch 28/100\n",
            "2/2 [==============================] - 0s 5ms/step - loss: 7.3380 - mae: 7.3380\n",
            "Epoch 29/100\n",
            "2/2 [==============================] - 0s 6ms/step - loss: 5.8451 - mae: 5.8451\n",
            "Epoch 30/100\n",
            "2/2 [==============================] - 0s 6ms/step - loss: 8.0650 - mae: 8.0650\n",
            "Epoch 31/100\n",
            "2/2 [==============================] - 0s 6ms/step - loss: 10.5309 - mae: 10.5309\n",
            "Epoch 32/100\n",
            "2/2 [==============================] - 0s 7ms/step - loss: 4.2570 - mae: 4.2570\n",
            "Epoch 33/100\n",
            "2/2 [==============================] - 0s 6ms/step - loss: 8.7289 - mae: 8.7289\n",
            "Epoch 34/100\n",
            "2/2 [==============================] - 0s 6ms/step - loss: 2.9890 - mae: 2.9890\n",
            "Epoch 35/100\n",
            "2/2 [==============================] - 0s 6ms/step - loss: 8.5455 - mae: 8.5455\n",
            "Epoch 36/100\n",
            "2/2 [==============================] - 0s 6ms/step - loss: 5.6799 - mae: 5.6799\n",
            "Epoch 37/100\n",
            "2/2 [==============================] - 0s 6ms/step - loss: 7.1795 - mae: 7.1795\n",
            "Epoch 38/100\n",
            "2/2 [==============================] - 0s 6ms/step - loss: 6.3100 - mae: 6.3100\n",
            "Epoch 39/100\n",
            "2/2 [==============================] - 0s 6ms/step - loss: 5.9965 - mae: 5.9965\n",
            "Epoch 40/100\n",
            "2/2 [==============================] - 0s 6ms/step - loss: 7.5098 - mae: 7.5098\n",
            "Epoch 41/100\n",
            "2/2 [==============================] - 0s 6ms/step - loss: 1.6759 - mae: 1.6759\n",
            "Epoch 42/100\n",
            "2/2 [==============================] - 0s 6ms/step - loss: 3.0118 - mae: 3.0118\n",
            "Epoch 43/100\n",
            "2/2 [==============================] - 0s 6ms/step - loss: 3.3700 - mae: 3.3700\n",
            "Epoch 44/100\n",
            "2/2 [==============================] - 0s 6ms/step - loss: 1.3935 - mae: 1.3935\n",
            "Epoch 45/100\n",
            "2/2 [==============================] - 0s 5ms/step - loss: 1.4693 - mae: 1.4693\n",
            "Epoch 46/100\n",
            "2/2 [==============================] - 0s 5ms/step - loss: 1.3755 - mae: 1.3755\n",
            "Epoch 47/100\n",
            "2/2 [==============================] - 0s 6ms/step - loss: 3.9461 - mae: 3.9461\n",
            "Epoch 48/100\n",
            "2/2 [==============================] - 0s 5ms/step - loss: 0.9282 - mae: 0.9282\n",
            "Epoch 49/100\n",
            "2/2 [==============================] - 0s 6ms/step - loss: 0.6275 - mae: 0.6275\n",
            "Epoch 50/100\n",
            "2/2 [==============================] - 0s 6ms/step - loss: 0.8574 - mae: 0.8574\n",
            "Epoch 51/100\n",
            "2/2 [==============================] - 0s 5ms/step - loss: 1.0139 - mae: 1.0139\n",
            "Epoch 52/100\n",
            "2/2 [==============================] - 0s 5ms/step - loss: 1.6672 - mae: 1.6672\n",
            "Epoch 53/100\n",
            "2/2 [==============================] - 0s 6ms/step - loss: 2.5948 - mae: 2.5948\n",
            "Epoch 54/100\n",
            "2/2 [==============================] - 0s 5ms/step - loss: 4.3500 - mae: 4.3500\n",
            "Epoch 55/100\n",
            "2/2 [==============================] - 0s 5ms/step - loss: 3.2405 - mae: 3.2405\n",
            "Epoch 56/100\n",
            "2/2 [==============================] - 0s 5ms/step - loss: 2.2466 - mae: 2.2466\n",
            "Epoch 57/100\n",
            "2/2 [==============================] - 0s 6ms/step - loss: 1.4326 - mae: 1.4326\n",
            "Epoch 58/100\n",
            "2/2 [==============================] - 0s 6ms/step - loss: 0.3037 - mae: 0.3037\n",
            "Epoch 59/100\n",
            "2/2 [==============================] - 0s 7ms/step - loss: 0.8864 - mae: 0.8864\n",
            "Epoch 60/100\n",
            "2/2 [==============================] - 0s 7ms/step - loss: 0.4491 - mae: 0.4491\n",
            "Epoch 61/100\n",
            "2/2 [==============================] - 0s 6ms/step - loss: 1.2207 - mae: 1.2207\n",
            "Epoch 62/100\n",
            "2/2 [==============================] - 0s 7ms/step - loss: 1.6209 - mae: 1.6209\n",
            "Epoch 63/100\n",
            "2/2 [==============================] - 0s 6ms/step - loss: 0.9137 - mae: 0.9137\n",
            "Epoch 64/100\n",
            "2/2 [==============================] - 0s 6ms/step - loss: 1.1170 - mae: 1.1170\n",
            "Epoch 65/100\n",
            "2/2 [==============================] - 0s 7ms/step - loss: 1.4432 - mae: 1.4432\n",
            "Epoch 66/100\n",
            "2/2 [==============================] - 0s 6ms/step - loss: 0.2657 - mae: 0.2657\n",
            "Epoch 67/100\n",
            "2/2 [==============================] - 0s 6ms/step - loss: 1.1969 - mae: 1.1969\n",
            "Epoch 68/100\n",
            "2/2 [==============================] - 0s 6ms/step - loss: 1.8866 - mae: 1.8866\n",
            "Epoch 69/100\n",
            "2/2 [==============================] - 0s 5ms/step - loss: 0.3716 - mae: 0.3716\n",
            "Epoch 70/100\n",
            "2/2 [==============================] - 0s 6ms/step - loss: 0.9866 - mae: 0.9866\n",
            "Epoch 71/100\n",
            "2/2 [==============================] - 0s 6ms/step - loss: 2.5877 - mae: 2.5877\n",
            "Epoch 72/100\n",
            "2/2 [==============================] - 0s 5ms/step - loss: 1.3914 - mae: 1.3914\n",
            "Epoch 73/100\n",
            "2/2 [==============================] - 0s 5ms/step - loss: 3.8712 - mae: 3.8712\n",
            "Epoch 74/100\n",
            "2/2 [==============================] - 0s 6ms/step - loss: 1.3734 - mae: 1.3734\n",
            "Epoch 75/100\n",
            "2/2 [==============================] - 0s 5ms/step - loss: 1.7424 - mae: 1.7424\n",
            "Epoch 76/100\n",
            "2/2 [==============================] - 0s 6ms/step - loss: 0.3527 - mae: 0.3527\n",
            "Epoch 77/100\n",
            "2/2 [==============================] - 0s 7ms/step - loss: 0.0865 - mae: 0.0865\n",
            "Epoch 78/100\n",
            "2/2 [==============================] - 0s 6ms/step - loss: 1.9394 - mae: 1.9394\n",
            "Epoch 79/100\n",
            "2/2 [==============================] - 0s 6ms/step - loss: 0.8445 - mae: 0.8445\n",
            "Epoch 80/100\n",
            "2/2 [==============================] - 0s 6ms/step - loss: 1.5416 - mae: 1.5416\n",
            "Epoch 81/100\n",
            "2/2 [==============================] - 0s 5ms/step - loss: 0.3159 - mae: 0.3159\n",
            "Epoch 82/100\n",
            "2/2 [==============================] - 0s 5ms/step - loss: 2.3625 - mae: 2.3625\n",
            "Epoch 83/100\n",
            "2/2 [==============================] - 0s 7ms/step - loss: 2.3273 - mae: 2.3273\n",
            "Epoch 84/100\n",
            "2/2 [==============================] - 0s 8ms/step - loss: 1.7387 - mae: 1.7387\n",
            "Epoch 85/100\n",
            "2/2 [==============================] - 0s 6ms/step - loss: 0.8633 - mae: 0.8633\n",
            "Epoch 86/100\n",
            "2/2 [==============================] - 0s 6ms/step - loss: 2.0365 - mae: 2.0365\n",
            "Epoch 87/100\n",
            "2/2 [==============================] - 0s 6ms/step - loss: 0.1471 - mae: 0.1471\n",
            "Epoch 88/100\n",
            "2/2 [==============================] - 0s 5ms/step - loss: 2.4484 - mae: 2.4484\n",
            "Epoch 89/100\n",
            "2/2 [==============================] - 0s 6ms/step - loss: 1.4301 - mae: 1.4301\n",
            "Epoch 90/100\n",
            "2/2 [==============================] - 0s 7ms/step - loss: 2.2754 - mae: 2.2754\n",
            "Epoch 91/100\n",
            "2/2 [==============================] - 0s 5ms/step - loss: 2.8929 - mae: 2.8929\n",
            "Epoch 92/100\n",
            "2/2 [==============================] - 0s 5ms/step - loss: 2.2827 - mae: 2.2827\n",
            "Epoch 93/100\n",
            "2/2 [==============================] - 0s 6ms/step - loss: 0.8118 - mae: 0.8118\n",
            "Epoch 94/100\n",
            "2/2 [==============================] - 0s 5ms/step - loss: 0.3941 - mae: 0.3941\n",
            "Epoch 95/100\n",
            "2/2 [==============================] - 0s 6ms/step - loss: 0.2513 - mae: 0.2513\n",
            "Epoch 96/100\n",
            "2/2 [==============================] - 0s 6ms/step - loss: 0.7420 - mae: 0.7420\n",
            "Epoch 97/100\n",
            "2/2 [==============================] - 0s 6ms/step - loss: 2.1349 - mae: 2.1349\n",
            "Epoch 98/100\n",
            "2/2 [==============================] - 0s 7ms/step - loss: 1.1185 - mae: 1.1185\n",
            "Epoch 99/100\n",
            "2/2 [==============================] - 0s 6ms/step - loss: 3.2886 - mae: 3.2886\n",
            "Epoch 100/100\n",
            "2/2 [==============================] - 0s 6ms/step - loss: 1.4272 - mae: 1.4272\n"
          ]
        }
      ]
    },
    {
      "cell_type": "code",
      "source": [
        "X_test"
      ],
      "metadata": {
        "colab": {
          "base_uri": "https://localhost:8080/"
        },
        "id": "RNDaW_PVNT4q",
        "outputId": "e37870c2-461e-4535-c94d-0f27e5113893"
      },
      "execution_count": 130,
      "outputs": [
        {
          "output_type": "execute_result",
          "data": {
            "text/plain": [
              "array([60, 64, 68, 72, 76, 80, 84, 88, 92, 96])"
            ]
          },
          "metadata": {},
          "execution_count": 130
        }
      ]
    },
    {
      "cell_type": "code",
      "source": [
        "model.predict(X_test)"
      ],
      "metadata": {
        "colab": {
          "base_uri": "https://localhost:8080/"
        },
        "id": "XO9F9tYbNBMl",
        "outputId": "508eb471-c634-45f3-dcea-6e3280de5ff9"
      },
      "execution_count": 128,
      "outputs": [
        {
          "output_type": "execute_result",
          "data": {
            "text/plain": [
              "array([[ 67.51831 ],\n",
              "       [ 71.3681  ],\n",
              "       [ 75.217896],\n",
              "       [ 79.06771 ],\n",
              "       [ 82.917496],\n",
              "       [ 86.7673  ],\n",
              "       [ 90.61711 ],\n",
              "       [ 94.466896],\n",
              "       [ 98.31671 ],\n",
              "       [102.16649 ]], dtype=float32)"
            ]
          },
          "metadata": {},
          "execution_count": 128
        }
      ]
    },
    {
      "cell_type": "code",
      "source": [
        "model.summary()"
      ],
      "metadata": {
        "colab": {
          "base_uri": "https://localhost:8080/"
        },
        "id": "v1BvN_-MNRPA",
        "outputId": "944455b7-c07a-43f1-8558-e8197f817c42"
      },
      "execution_count": 131,
      "outputs": [
        {
          "output_type": "stream",
          "name": "stdout",
          "text": [
            "Model: \"sequential_38\"\n",
            "_________________________________________________________________\n",
            " Layer (type)                Output Shape              Param #   \n",
            "=================================================================\n",
            " dense_82 (Dense)            (None, 50)                100       \n",
            "                                                                 \n",
            " dense_83 (Dense)            (None, 100)               5100      \n",
            "                                                                 \n",
            " dense_84 (Dense)            (None, 50)                5050      \n",
            "                                                                 \n",
            " dense_85 (Dense)            (None, 200)               10200     \n",
            "                                                                 \n",
            " dense_86 (Dense)            (None, 200)               40200     \n",
            "                                                                 \n",
            " dense_87 (Dense)            (None, 150)               30150     \n",
            "                                                                 \n",
            " dense_88 (Dense)            (None, 1)                 151       \n",
            "                                                                 \n",
            "=================================================================\n",
            "Total params: 90,951\n",
            "Trainable params: 90,951\n",
            "Non-trainable params: 0\n",
            "_________________________________________________________________\n"
          ]
        }
      ]
    },
    {
      "cell_type": "code",
      "source": [
        "from tensorflow.keras.utils import plot_model"
      ],
      "metadata": {
        "id": "Jp0-s44STduf"
      },
      "execution_count": 133,
      "outputs": []
    },
    {
      "cell_type": "code",
      "source": [
        "plot_model(model=model, show_shapes=True)"
      ],
      "metadata": {
        "colab": {
          "base_uri": "https://localhost:8080/",
          "height": 865
        },
        "id": "bhpBDkBObCey",
        "outputId": "658bbb71-84bc-424f-90e6-672264439d87"
      },
      "execution_count": 134,
      "outputs": [
        {
          "output_type": "execute_result",
          "data": {
            "text/plain": [
              "<IPython.core.display.Image object>"
            ],
            "image/png": "[encoded data removed]"
          },
          "metadata": {},
          "execution_count": 134
        }
      ]
    },
    {
      "cell_type": "code",
      "source": [
        "#Visualise Mode Predictions\n",
        "\n",
        "y_preds = model.predict(X_test)"
      ],
      "metadata": {
        "id": "9O2uhPqVbdGA"
      },
      "execution_count": 135,
      "outputs": []
    },
    {
      "cell_type": "code",
      "source": [
        "y_preds"
      ],
      "metadata": {
        "colab": {
          "base_uri": "https://localhost:8080/"
        },
        "id": "yHHILttwcH37",
        "outputId": "c85fb34d-6f48-40b2-f177-5548cc3ca2c0"
      },
      "execution_count": 136,
      "outputs": [
        {
          "output_type": "execute_result",
          "data": {
            "text/plain": [
              "array([[ 67.51831 ],\n",
              "       [ 71.3681  ],\n",
              "       [ 75.217896],\n",
              "       [ 79.06771 ],\n",
              "       [ 82.917496],\n",
              "       [ 86.7673  ],\n",
              "       [ 90.61711 ],\n",
              "       [ 94.466896],\n",
              "       [ 98.31671 ],\n",
              "       [102.16649 ]], dtype=float32)"
            ]
          },
          "metadata": {},
          "execution_count": 136
        }
      ]
    },
    {
      "cell_type": "code",
      "source": [
        "y_test\n"
      ],
      "metadata": {
        "colab": {
          "base_uri": "https://localhost:8080/"
        },
        "id": "MIqy8MB8cMPk",
        "outputId": "e27a27f5-04a4-412a-8ce5-3190e14547dc"
      },
      "execution_count": 137,
      "outputs": [
        {
          "output_type": "execute_result",
          "data": {
            "text/plain": [
              "array([60, 64, 68, 72, 76, 80, 84, 88, 92, 96])"
            ]
          },
          "metadata": {},
          "execution_count": 137
        }
      ]
    },
    {
      "cell_type": "code",
      "source": [
        "#Lets Plot the Pr\n",
        "\n",
        "\n",
        "def plot_predictions(train_data =X_train,\n",
        "                     train_label = y_train,\n",
        "                     test_data = X_test,\n",
        "                     test_label = y_test,\n",
        "                     predictions =y_preds):\n",
        "  \"\"\" Plot training Data and test data\"\"\"\n",
        "\n",
        "  plt.figure(figsize=(10,7))\n",
        "  #Plot the trainingg set\n",
        "  plt.scatter (train_data, train_label, c=\"b\", label = 'Training Data')\n",
        "  #Plot the test set\n",
        "  plt.scatter(test_label, test_data, c= 'g', label ='Test  Data' )\n",
        "  #Plot model Prediction in red\n",
        "  plt.scatter(test_data, predictions, c = 'r', label ='Prediction')\n",
        "  #Show the legend\n",
        "  plt.legend();\n",
        "\n",
        "\n",
        "\n"
      ],
      "metadata": {
        "id": "IeSpFhYncWjm"
      },
      "execution_count": 152,
      "outputs": []
    },
    {
      "cell_type": "code",
      "source": [
        "plot_predictions()"
      ],
      "metadata": {
        "colab": {
          "base_uri": "https://localhost:8080/",
          "height": 428
        },
        "id": "wI7aYkbhdZJn",
        "outputId": "4515ee85-28fb-41f4-94e1-e3bccd43fdb9"
      },
      "execution_count": 153,
      "outputs": [
        {
          "output_type": "display_data",
          "data": {
            "text/plain": [
              "<Figure size 720x504 with 1 Axes>"
            ],
            "image/png": "[encoded data removed]"
          },
          "metadata": {
            "needs_background": "light"
          }
        }
      ]
    },
    {
      "cell_type": "markdown",
      "source": [
        "# As you can see our model is doing well"
      ],
      "metadata": {
        "id": "re1pv0TsfML6"
      }
    },
    {
      "cell_type": "markdown",
      "source": [
        "#Evaluations metrics"
      ],
      "metadata": {
        "id": "HCaSsLs2gDIE"
      }
    },
    {
      "cell_type": "code",
      "source": [
        "tf.constant(y_preds)"
      ],
      "metadata": {
        "colab": {
          "base_uri": "https://localhost:8080/"
        },
        "id": "GByJxMOVlYoT",
        "outputId": "e46c7bfa-7092-40f8-e5b4-9f1a766f65bb"
      },
      "execution_count": 161,
      "outputs": [
        {
          "output_type": "execute_result",
          "data": {
            "text/plain": [
              "<tf.Tensor: shape=(10, 1), dtype=float32, numpy=\n",
              "array([[ 67.51831 ],\n",
              "       [ 71.3681  ],\n",
              "       [ 75.217896],\n",
              "       [ 79.06771 ],\n",
              "       [ 82.917496],\n",
              "       [ 86.7673  ],\n",
              "       [ 90.61711 ],\n",
              "       [ 94.466896],\n",
              "       [ 98.31671 ],\n",
              "       [102.16649 ]], dtype=float32)>"
            ]
          },
          "metadata": {},
          "execution_count": 161
        }
      ]
    },
    {
      "cell_type": "code",
      "source": [
        "#MAE - Mean Absolute Error\n",
        "#MSE - Mean Square Error\n",
        "\n"
      ],
      "metadata": {
        "colab": {
          "base_uri": "https://localhost:8080/"
        },
        "id": "FgL9hSFxhtEP",
        "outputId": "591d8cc4-3ba0-469b-ee76-1bb923379117"
      },
      "execution_count": 154,
      "outputs": [
        {
          "output_type": "execute_result",
          "data": {
            "text/plain": [
              "<keras.losses.Huber at 0x7f7b6e2ea790>"
            ]
          },
          "metadata": {},
          "execution_count": 154
        }
      ]
    },
    {
      "cell_type": "code",
      "source": [
        "#Evaluate on the test\n",
        "\n",
        "model.evaluate(X_test, y_test)"
      ],
      "metadata": {
        "colab": {
          "base_uri": "https://localhost:8080/"
        },
        "id": "gVVC7Xq7jKp4",
        "outputId": "4ee9e0ee-d77d-4c75-a807-e48fcdfc1937"
      },
      "execution_count": 162,
      "outputs": [
        {
          "output_type": "stream",
          "name": "stdout",
          "text": [
            "1/1 [==============================] - 0s 17ms/step - loss: 6.8424 - mae: 6.8424\n"
          ]
        },
        {
          "output_type": "execute_result",
          "data": {
            "text/plain": [
              "[6.842398643493652, 6.842398643493652]"
            ]
          },
          "metadata": {},
          "execution_count": 162
        }
      ]
    },
    {
      "cell_type": "code",
      "source": [
        "#Calculate MAE\n",
        "\n",
        "tf.metrics.mean_absolute_error(tf.constant(y_test), y_preds)"
      ],
      "metadata": {
        "colab": {
          "base_uri": "https://localhost:8080/"
        },
        "id": "zydVUy0_j17b",
        "outputId": "5c589d98-fa96-4e1e-dd0e-4df51d98b369"
      },
      "execution_count": 164,
      "outputs": [
        {
          "output_type": "execute_result",
          "data": {
            "text/plain": [
              "<tf.Tensor: shape=(10,), dtype=float32, numpy=\n",
              "array([12.6890135, 11.052759 , 10.156421 , 10.       , 10.583499 ,\n",
              "       11.906921 , 13.970266 , 16.773518 , 20.316711 , 24.166489 ],\n",
              "      dtype=float32)>"
            ]
          },
          "metadata": {},
          "execution_count": 164
        }
      ]
    },
    {
      "cell_type": "code",
      "source": [
        "tf.squeeze(y_preds)"
      ],
      "metadata": {
        "colab": {
          "base_uri": "https://localhost:8080/"
        },
        "id": "S8zTnFTbkMGO",
        "outputId": "3eac8a7c-5382-41e2-e437-ceecb6608409"
      },
      "execution_count": 165,
      "outputs": [
        {
          "output_type": "execute_result",
          "data": {
            "text/plain": [
              "<tf.Tensor: shape=(10,), dtype=float32, numpy=\n",
              "array([ 67.51831 ,  71.3681  ,  75.217896,  79.06771 ,  82.917496,\n",
              "        86.7673  ,  90.61711 ,  94.466896,  98.31671 , 102.16649 ],\n",
              "      dtype=float32)>"
            ]
          },
          "metadata": {},
          "execution_count": 165
        }
      ]
    },
    {
      "cell_type": "code",
      "source": [
        "tf.metrics.mean_absolute_error(tf.constant(y_test),tf.squeeze(y_preds))"
      ],
      "metadata": {
        "colab": {
          "base_uri": "https://localhost:8080/"
        },
        "id": "ZHT4JClul58-",
        "outputId": "e30603c3-257c-4b14-ff0f-1ada97f9ac01"
      },
      "execution_count": 167,
      "outputs": [
        {
          "output_type": "execute_result",
          "data": {
            "text/plain": [
              "<tf.Tensor: shape=(), dtype=float32, numpy=6.8424025>"
            ]
          },
          "metadata": {},
          "execution_count": 167
        }
      ]
    },
    {
      "cell_type": "code",
      "source": [
        "tf.metrics.mean_squared_error(tf.constant(y_test),tf.squeeze(y_preds))"
      ],
      "metadata": {
        "colab": {
          "base_uri": "https://localhost:8080/"
        },
        "id": "s9YpBxX9l947",
        "outputId": "856deb6f-77ec-4982-acce-1ad527ff76da"
      },
      "execution_count": 169,
      "outputs": [
        {
          "output_type": "execute_result",
          "data": {
            "text/plain": [
              "<tf.Tensor: shape=(), dtype=float32, numpy=47.004593>"
            ]
          },
          "metadata": {},
          "execution_count": 169
        }
      ]
    },
    {
      "cell_type": "code",
      "source": [
        " 6.8424025 ** 2"
      ],
      "metadata": {
        "colab": {
          "base_uri": "https://localhost:8080/"
        },
        "id": "14Z6dCKLmmlR",
        "outputId": "b55ab6c5-7307-44d5-c045-674340af7c5e"
      },
      "execution_count": 170,
      "outputs": [
        {
          "output_type": "execute_result",
          "data": {
            "text/plain": [
              "46.81847197200626"
            ]
          },
          "metadata": {},
          "execution_count": 170
        }
      ]
    },
    {
      "cell_type": "code",
      "source": [
        ""
      ],
      "metadata": {
        "id": "oq26gfhlm7gV"
      },
      "execution_count": 171,
      "outputs": []
    },
    {
      "cell_type": "code",
      "source": [
        "#Build metrics Function\n",
        "\n",
        "def metric_func(y_true =y_test,\n",
        "                y_pred = y_preds):\n",
        "  mae = tf.metrics.mean_absolute_error(y_true, y_pred)\n",
        "  mse = tf.metrics.mean_squared_error(y_true,y_pred)\n",
        "  return mae, mse"
      ],
      "metadata": {
        "id": "lgTYDJXBnD4u"
      },
      "execution_count": 174,
      "outputs": []
    },
    {
      "cell_type": "code",
      "source": [
        ""
      ],
      "metadata": {
        "id": "GSwQOr1Ko6Uo"
      },
      "execution_count": null,
      "outputs": []
    }
  ]
}